{
 "cells": [
  {
   "cell_type": "code",
   "execution_count": null,
   "metadata": {
    "scrolled": true
   },
   "outputs": [
    {
     "name": "stdout",
     "output_type": "stream",
     "text": [
      "0\n",
      "5\n",
      "10\n",
      "15\n",
      "20\n",
      "25\n",
      "30\n",
      "35\n",
      "40\n",
      "45\n",
      "50\n",
      "55\n",
      "60\n",
      "65\n",
      "70\n",
      "75\n",
      "80\n",
      "85\n",
      "90\n",
      "95\n",
      "100\n",
      "105\n",
      "110\n",
      "115\n",
      "120\n",
      "125\n",
      "130\n",
      "135\n",
      "140\n",
      "145\n",
      "150\n",
      "155\n",
      "160\n",
      "165\n",
      "170\n",
      "175\n",
      "180\n",
      "185\n",
      "190\n",
      "195\n",
      "200\n",
      "205\n",
      "210\n",
      "215\n",
      "220\n",
      "225\n",
      "230\n",
      "235\n",
      "240\n",
      "245\n",
      "250\n",
      "255\n",
      "260\n",
      "265\n",
      "270\n",
      "275\n",
      "280\n",
      "285\n",
      "290\n",
      "295\n",
      "300\n",
      "305\n",
      "310\n",
      "315\n",
      "320\n",
      "325\n",
      "330\n",
      "335\n",
      "340\n",
      "345\n",
      "350\n",
      "355\n",
      "360\n",
      "365\n",
      "370\n",
      "375\n",
      "380\n",
      "385\n",
      "390\n",
      "395\n",
      "400\n",
      "405\n",
      "410\n",
      "415\n",
      "420\n",
      "425\n",
      "430\n",
      "435\n",
      "440\n",
      "445\n",
      "450\n",
      "455\n",
      "460\n",
      "465\n",
      "470\n",
      "475\n",
      "480\n",
      "485\n",
      "490\n",
      "495\n",
      "500\n",
      "505\n",
      "510\n",
      "515\n",
      "520\n",
      "525\n",
      "530\n",
      "535\n",
      "540\n",
      "545\n",
      "550\n",
      "555\n",
      "560\n",
      "565\n",
      "570\n",
      "575\n",
      "580\n",
      "585\n",
      "590\n",
      "595\n",
      "600\n",
      "605\n",
      "610\n",
      "615\n",
      "620\n",
      "625\n",
      "630\n",
      "635\n",
      "640\n",
      "645\n",
      "650\n",
      "655\n",
      "660\n",
      "665\n",
      "670\n",
      "675\n",
      "680\n",
      "685\n",
      "690\n",
      "695\n",
      "700\n",
      "705\n",
      "710\n",
      "715\n",
      "720\n",
      "725\n",
      "730\n",
      "735\n",
      "740\n",
      "745\n",
      "750\n",
      "755\n",
      "760\n",
      "765\n",
      "770\n",
      "775\n",
      "780\n",
      "785\n",
      "790\n",
      "795\n",
      "800\n",
      "805\n",
      "810\n",
      "815\n",
      "820\n",
      "825\n",
      "830\n",
      "835\n",
      "840\n",
      "845\n",
      "850\n",
      "855\n",
      "860\n",
      "865\n",
      "870\n",
      "875\n",
      "880\n",
      "885\n",
      "890\n",
      "895\n",
      "900\n",
      "905\n",
      "910\n",
      "915\n",
      "920\n",
      "925\n",
      "930\n",
      "935\n",
      "940\n",
      "945\n",
      "950\n",
      "955\n",
      "960\n",
      "965\n",
      "970\n",
      "975\n",
      "980\n",
      "985\n",
      "990\n",
      "995\n",
      "1000\n",
      "1005\n",
      "1010\n",
      "1015\n",
      "1020\n",
      "1025\n",
      "1030\n",
      "1035\n",
      "1040\n",
      "1045\n",
      "1050\n",
      "1055\n",
      "1060\n",
      "1065\n",
      "1070\n",
      "1075\n",
      "1080\n"
     ]
    }
   ],
   "source": [
    "import requests\n",
    "from bs4 import BeautifulSoup as bs\n",
    "import re\n",
    "#https://www.tripadvisor.in/Hotel_Review-g294265-d1770798-Reviews-or18765-Marina_Bay_Sands-Singapore.html#REVIEWS\n",
    "url1 = \"https://www.tripadvisor.in/Hotel_Review-g294265-d1770798-Reviews\"\n",
    "url2 = \"-Marina_Bay_Sands-Singapore.html\"\n",
    "\n",
    "reviews=[]\n",
    "ratings = []\n",
    "title = []\n",
    "date = []\n",
    "for i in range(0,18766,5):\n",
    "    print(i)\n",
    "    if i == 0:\n",
    "        base_url = url1+url2\n",
    "    else:\n",
    "        base_url = url1+\"-or\"+str(i)+url2\n",
    "    response = requests.get(base_url)\n",
    "    soup = bs(response.content,\"html.parser\")\n",
    "    \n",
    "    # scrap reviews\n",
    "    temp = soup.findAll(\"q\",attrs={\"class\",\"IRsGHoPm\"})\n",
    "    for j in range(len(temp)):\n",
    "        reviews.append(temp[j].text) \n",
    "    \n",
    "    # scrap ratings\n",
    "    for a in soup.findAll(\"div\",attrs={\"class\",\"nf9vGX55\"}):\n",
    "        for rate in a.findAll(\"span\"):\n",
    "            ratings.append(rate)\n",
    "        \n",
    "    # scrap date of review\n",
    "    for b in soup.findAll(\"div\",attrs={\"class\",\"_2fxQ4TOx\"}):\n",
    "        date.append(b.text)\n",
    "        \n",
    "\n"
   ]
  },
  {
   "cell_type": "code",
   "execution_count": 2,
   "metadata": {},
   "outputs": [
    {
     "data": {
      "text/plain": [
       "[<span class=\"ui_bubble_rating bubble_10\"></span>,\n",
       " <span class=\"ui_bubble_rating bubble_50\"></span>,\n",
       " <span class=\"ui_bubble_rating bubble_50\"></span>,\n",
       " <span class=\"ui_bubble_rating bubble_40\"></span>]"
      ]
     },
     "execution_count": 2,
     "metadata": {},
     "output_type": "execute_result"
    }
   ],
   "source": [
    "ratings[:4]"
   ]
  },
  {
   "cell_type": "code",
   "execution_count": 11,
   "metadata": {},
   "outputs": [
    {
     "data": {
      "text/plain": [
       "'We booked a Bay Suite for family of 5 with a seamless booking process from the hotline. Was worried about checking in but the process was fast with not many in the Sands Lounge. Recommend to pay a little more for Club Lounge benefits as the general queues were so long! Room quality was excellent with a view over Gardens by the Bay. Tips: have your breakfast only at Spago’s as the food & coffee quality is superior to the other restaurant options. Our butler service was great - we had fruits, cookies , milk , cakes delivered daily ! Book your pool slot in advance and you won’t be disappointed with the amazing experience swimming in the sky with our beautiful city skyline as a backdrop. Five stars for the high service quality among every staff and the room quality. Hope that the TVs can be upgraded soon as it looks pretty outdated. Time to have smart TVs with Netflix & YouTube as that’s the current trend now. Other than that - perfect stay!…'"
      ]
     },
     "execution_count": 11,
     "metadata": {},
     "output_type": "execute_result"
    }
   ],
   "source": [
    "reviews[1]"
   ]
  },
  {
   "cell_type": "code",
   "execution_count": 10,
   "metadata": {},
   "outputs": [
    {
     "data": {
      "text/plain": [
       "1"
      ]
     },
     "execution_count": 10,
     "metadata": {},
     "output_type": "execute_result"
    }
   ],
   "source": [
    "int(str(ratings[0])[37:-10])"
   ]
  },
  {
   "cell_type": "code",
   "execution_count": 4,
   "metadata": {},
   "outputs": [],
   "source": [
    "rate = ratings[:10]"
   ]
  },
  {
   "cell_type": "code",
   "execution_count": 5,
   "metadata": {},
   "outputs": [
    {
     "data": {
      "text/plain": [
       "[<span class=\"ui_bubble_rating bubble_40\"></span>,\n",
       " <span class=\"ui_bubble_rating bubble_50\"></span>,\n",
       " <span class=\"ui_bubble_rating bubble_50\"></span>,\n",
       " <span class=\"ui_bubble_rating bubble_50\"></span>,\n",
       " <span class=\"ui_bubble_rating bubble_50\"></span>,\n",
       " <span class=\"ui_bubble_rating bubble_50\"></span>,\n",
       " <span class=\"ui_bubble_rating bubble_50\"></span>,\n",
       " <span class=\"ui_bubble_rating bubble_50\"></span>,\n",
       " <span class=\"ui_bubble_rating bubble_50\"></span>,\n",
       " <span class=\"ui_bubble_rating bubble_50\"></span>]"
      ]
     },
     "execution_count": 5,
     "metadata": {},
     "output_type": "execute_result"
    }
   ],
   "source": [
    "rate"
   ]
  },
  {
   "cell_type": "code",
   "execution_count": 13,
   "metadata": {},
   "outputs": [
    {
     "data": {
      "text/plain": [
       "'jelinc2016 wrote a review 17 Dec'"
      ]
     },
     "execution_count": 13,
     "metadata": {},
     "output_type": "execute_result"
    }
   ],
   "source": [
    "date[1]"
   ]
  },
  {
   "cell_type": "code",
   "execution_count": 14,
   "metadata": {},
   "outputs": [],
   "source": [
    "# define functions for mapping to clean data\n",
    "\n",
    "def get_rate(arr):\n",
    "    return int(str(arr)[37:-10])\n",
    "\n",
    "def get_date(arr):\n",
    "    return str(arr)[15:]\n"
   ]
  },
  {
   "cell_type": "code",
   "execution_count": 15,
   "metadata": {},
   "outputs": [],
   "source": [
    "rates_in_int = map(get_rate, ratings)"
   ]
  },
  {
   "cell_type": "code",
   "execution_count": 16,
   "metadata": {},
   "outputs": [],
   "source": [
    "ratings = []\n",
    "for i in rates_in_int:\n",
    "    ratings.append(i)\n"
   ]
  },
  {
   "cell_type": "code",
   "execution_count": 17,
   "metadata": {},
   "outputs": [
    {
     "data": {
      "text/plain": [
       "[1, 5, 5, 4, 5, 5, 5, 5, 5, 4]"
      ]
     },
     "execution_count": 17,
     "metadata": {},
     "output_type": "execute_result"
    }
   ],
   "source": [
    "ratings[:10]"
   ]
  },
  {
   "cell_type": "code",
   "execution_count": 18,
   "metadata": {},
   "outputs": [],
   "source": [
    "review_date = map(get_date, date)\n",
    "dates=[]\n",
    "for i in review_date:\n",
    "    dates.append(i)\n"
   ]
  },
  {
   "cell_type": "code",
   "execution_count": 19,
   "metadata": {},
   "outputs": [
    {
     "data": {
      "text/plain": [
       "'Booked 3 rooms for a family staycation but sadly it was a forgettable experience.   1. Checking in took close to an hour for just one room. Subsequently was told that the other room keys will be left in the room that was ready. When my family members reached and was registering the two front office agents mentioned that there is no such thing as leaving the room keys in the room. Wrong info throughout   2. Tried to book slots for the infinity pool but system was full of bugs and eventually could not secure any slots. Was told by the front office agent that when I was trying to book on Oct 15 the system just went live and it was the first implementation thus there were a lot of bugs. Only managed to get a 9.30am slot in the end.   3. Staffs were poorly trained. Wanted to visit the sky park but was directed to the bridge heading towards Gardens by the bay.   4. While checking in was never informed where Breakfast was and I had to call and ask. While breakfast at Rise cafe was poor. Signal to one of the staff as I wanted to order food, she acknowledged but never came back. Had to wait in vain as no one bothers to take your order.   5. While checking in was never informed that the person booking the room had to be present to apply for the sands membership lifestyle card in the end we had to make multiple trips to apply. Wasted almost half a day doing all the admin stuffs. Poorly managed processes and very lousy communication.   6. Was never informed that for baby cot it had to be reserved way ahead. The front office agent told me that he will check on the availability of the baby cot ended up no one got back.   All in all for the price paid it was totally not worth it. Probably also because it was under the healthcare promo that was why service and quality were compromised. …'"
      ]
     },
     "execution_count": 19,
     "metadata": {},
     "output_type": "execute_result"
    }
   ],
   "source": [
    "reviews[0]"
   ]
  },
  {
   "cell_type": "code",
   "execution_count": 20,
   "metadata": {},
   "outputs": [
    {
     "data": {
      "text/html": [
       "<div>\n",
       "<style scoped>\n",
       "    .dataframe tbody tr th:only-of-type {\n",
       "        vertical-align: middle;\n",
       "    }\n",
       "\n",
       "    .dataframe tbody tr th {\n",
       "        vertical-align: top;\n",
       "    }\n",
       "\n",
       "    .dataframe thead th {\n",
       "        text-align: right;\n",
       "    }\n",
       "</style>\n",
       "<table border=\"1\" class=\"dataframe\">\n",
       "  <thead>\n",
       "    <tr style=\"text-align: right;\">\n",
       "      <th></th>\n",
       "      <th>Review</th>\n",
       "      <th>Ratings</th>\n",
       "      <th>Date</th>\n",
       "    </tr>\n",
       "  </thead>\n",
       "  <tbody>\n",
       "    <tr>\n",
       "      <th>0</th>\n",
       "      <td>Booked 3 rooms for a family staycation but sad...</td>\n",
       "      <td>1</td>\n",
       "      <td>review Yesterday</td>\n",
       "    </tr>\n",
       "    <tr>\n",
       "      <th>1</th>\n",
       "      <td>We booked a Bay Suite for family of 5 with a s...</td>\n",
       "      <td>5</td>\n",
       "      <td>e a review 17 Dec</td>\n",
       "    </tr>\n",
       "    <tr>\n",
       "      <th>2</th>\n",
       "      <td>World Class Service! Highly recommended for an...</td>\n",
       "      <td>5</td>\n",
       "      <td>on wrote a review 16 Dec</td>\n",
       "    </tr>\n",
       "    <tr>\n",
       "      <th>3</th>\n",
       "      <td>Our family of 2 adults and 2 kids had a thoro...</td>\n",
       "      <td>4</td>\n",
       "      <td>review 15 Dec</td>\n",
       "    </tr>\n",
       "    <tr>\n",
       "      <th>4</th>\n",
       "      <td>If you are looking for an unforgettable stayca...</td>\n",
       "      <td>5</td>\n",
       "      <td>review 14 Dec</td>\n",
       "    </tr>\n",
       "  </tbody>\n",
       "</table>\n",
       "</div>"
      ],
      "text/plain": [
       "                                              Review  Ratings  \\\n",
       "0  Booked 3 rooms for a family staycation but sad...        1   \n",
       "1  We booked a Bay Suite for family of 5 with a s...        5   \n",
       "2  World Class Service! Highly recommended for an...        5   \n",
       "3   Our family of 2 adults and 2 kids had a thoro...        4   \n",
       "4  If you are looking for an unforgettable stayca...        5   \n",
       "\n",
       "                       Date  \n",
       "0          review Yesterday  \n",
       "1         e a review 17 Dec  \n",
       "2  on wrote a review 16 Dec  \n",
       "3             review 15 Dec  \n",
       "4             review 14 Dec  "
      ]
     },
     "execution_count": 20,
     "metadata": {},
     "output_type": "execute_result"
    }
   ],
   "source": [
    "import pandas as pd\n",
    "#data=[reviewer, reviews, rating, dates], columns=['Reviewer','Review','Ratings','Date']\n",
    "Hotel_Reviews = pd.DataFrame({'Review':reviews, 'Ratings':ratings, 'Date':dates})\n",
    "\n",
    "Hotel_Reviews.head()"
   ]
  },
  {
   "cell_type": "code",
   "execution_count": 21,
   "metadata": {},
   "outputs": [],
   "source": [
    "Hotel_Reviews.to_csv(\"Marina_Bay_Sands.csv\")"
   ]
  }
 ],
 "metadata": {
  "kernelspec": {
   "display_name": "Python 3",
   "language": "python",
   "name": "python3"
  },
  "language_info": {
   "codemirror_mode": {
    "name": "ipython",
    "version": 3
   },
   "file_extension": ".py",
   "mimetype": "text/x-python",
   "name": "python",
   "nbconvert_exporter": "python",
   "pygments_lexer": "ipython3",
   "version": "3.7.5"
  }
 },
 "nbformat": 4,
 "nbformat_minor": 4
}
